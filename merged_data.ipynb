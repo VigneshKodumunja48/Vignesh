{
 "cells": [
  {
   "cell_type": "code",
   "execution_count": 1,
   "id": "5dd52e77-a29e-44ad-940f-5b0c0bb6872b",
   "metadata": {},
   "outputs": [
    {
     "name": "stdout",
     "output_type": "stream",
     "text": [
      "Requirement already satisfied: pandas in c:\\users\\vigne\\anaconda3\\lib\\site-packages (2.0.3)Note: you may need to restart the kernel to use updated packages.\n",
      "\n",
      "Requirement already satisfied: python-dateutil>=2.8.2 in c:\\users\\vigne\\anaconda3\\lib\\site-packages (from pandas) (2.8.2)\n",
      "Requirement already satisfied: pytz>=2020.1 in c:\\users\\vigne\\anaconda3\\lib\\site-packages (from pandas) (2023.3.post1)\n",
      "Requirement already satisfied: tzdata>=2022.1 in c:\\users\\vigne\\anaconda3\\lib\\site-packages (from pandas) (2023.3)\n",
      "Requirement already satisfied: numpy>=1.21.0 in c:\\users\\vigne\\anaconda3\\lib\\site-packages (from pandas) (1.24.3)\n",
      "Requirement already satisfied: six>=1.5 in c:\\users\\vigne\\anaconda3\\lib\\site-packages (from python-dateutil>=2.8.2->pandas) (1.16.0)\n"
     ]
    }
   ],
   "source": [
    "pip install pandas\n"
   ]
  },
  {
   "cell_type": "code",
   "execution_count": 11,
   "id": "03dc98b9-e458-4d23-9c13-910974ae5300",
   "metadata": {},
   "outputs": [
    {
     "name": "stdout",
     "output_type": "stream",
     "text": [
      "   Unnamed: 0           awbno       getStatus inventory_status  \\\n",
      "0           0  R1010808154AJI  GOOD_INVENTORY         COMPLETE   \n",
      "1           1      5979920051  GOOD_INVENTORY         COMPLETE   \n",
      "2           2     6.27721E+11  GOOD_INVENTORY              NaN   \n",
      "3           3     1.95042E+14  GOOD_INVENTORY         COMPLETE   \n",
      "4           4     1.95042E+14  GOOD_INVENTORY         COMPLETE   \n",
      "\n",
      "               orderID               subOrder              date  \\\n",
      "0           5076519403         1011866143.5-1  01-11-2024 00:44   \n",
      "1                 2865            1.41502E+13  01-11-2024 12:13   \n",
      "2  406-3863912-5131562  406-3863912-5131562-1  01-11-2024 12:21   \n",
      "3           5076181331       S266159169.1-1-0  01-11-2024 12:44   \n",
      "4           5076181331       S266159169.1-1-1  01-11-2024 12:44   \n",
      "\n",
      "      received_date           SKU return_courier    warehouse returnType  \\\n",
      "0  08-11-2024 15:05  8.905720e+12           SELF  Warehouse 1     return   \n",
      "1  09-11-2024 13:47  8.905720e+12         ECOM_1  Warehouse 4     return   \n",
      "2  11-11-2024 20:36  8.905720e+12          ATSIN  Warehouse 1     return   \n",
      "3  08-11-2024 18:10  8.905720e+12           SELF  Warehouse 2     return   \n",
      "4  08-11-2024 18:10  8.905720e+12           SELF  Warehouse 1     return   \n",
      "\n",
      "     category  \n",
      "0  Category 1  \n",
      "1  Category 6  \n",
      "2  Category 6  \n",
      "3  Category 1  \n",
      "4  Category 6  \n",
      "   Unnamed: 0          awbno     Return status  Return Quantity  \\\n",
      "0           0  R972189457AJI  RETURN_PROCESSED                1   \n",
      "1           1    1.95042E+14  RETURN_PROCESSED                1   \n",
      "2           2    1.95042E+14  RETURN_PROCESSED                1   \n",
      "3           3  R960845268AJI  RETURN_PROCESSED                1   \n",
      "4           4  R966944831AJI  RETURN_PROCESSED                1   \n",
      "\n",
      "                           Reason          SKU     orderID              date  \\\n",
      "0               Does_Not_Fit_Well  8.90572E+12  S262541859  30-09-2024 23:28   \n",
      "1  Not_Happy_With_Product_Quality  8.90572E+12  S262409205  30-09-2024 21:59   \n",
      "2  Not_Happy_With_Product_Quality  8.90572E+12  S262409205  30-09-2024 21:59   \n",
      "3      Want_To_Change_Style_Color  8.90572E+12  S262949936  30-09-2024 21:58   \n",
      "4        Does_Not_Look_Good_On_Me  8.90572E+12  S262726902  30-09-2024 21:56   \n",
      "\n",
      "    platform  \n",
      "0  Channel 1  \n",
      "1  Channel 1  \n",
      "2  Channel 1  \n",
      "3  Channel 1  \n",
      "4  Channel 1  \n"
     ]
    }
   ],
   "source": [
    "import pandas as pd\n",
    "\n",
    "# Load the datasets\n",
    "oms_df = pd.read_csv(\"oms.csv\")  # Adjust path as needed\n",
    "pf_df = pd.read_csv(\"pf.csv\")\n",
    "\n",
    "# Display first few rows\n",
    "print(oms_df.head())\n",
    "print(pf_df.head())\n",
    "\n"
   ]
  },
  {
   "cell_type": "code",
   "execution_count": 25,
   "id": "13c2791e-5cb3-43f0-b5bb-45c2ca81f87f",
   "metadata": {},
   "outputs": [
    {
     "name": "stdout",
     "output_type": "stream",
     "text": [
      "OMS Data:\n",
      "   Unnamed: 0           awbno       getStatus inventory_status  \\\n",
      "0           0  R1010808154AJI  GOOD_INVENTORY         COMPLETE   \n",
      "1           1      5979920051  GOOD_INVENTORY         COMPLETE   \n",
      "2           2     6.27721E+11  GOOD_INVENTORY              NaN   \n",
      "3           3     1.95042E+14  GOOD_INVENTORY         COMPLETE   \n",
      "4           4     1.95042E+14  GOOD_INVENTORY         COMPLETE   \n",
      "\n",
      "               orderID               subOrder              date  \\\n",
      "0           5076519403         1011866143.5-1  01-11-2024 00:44   \n",
      "1                 2865            1.41502E+13  01-11-2024 12:13   \n",
      "2  406-3863912-5131562  406-3863912-5131562-1  01-11-2024 12:21   \n",
      "3           5076181331       S266159169.1-1-0  01-11-2024 12:44   \n",
      "4           5076181331       S266159169.1-1-1  01-11-2024 12:44   \n",
      "\n",
      "      received_date           SKU return_courier    warehouse returnType  \\\n",
      "0  08-11-2024 15:05  8.905720e+12           SELF  Warehouse 1     return   \n",
      "1  09-11-2024 13:47  8.905720e+12         ECOM_1  Warehouse 4     return   \n",
      "2  11-11-2024 20:36  8.905720e+12          ATSIN  Warehouse 1     return   \n",
      "3  08-11-2024 18:10  8.905720e+12           SELF  Warehouse 2     return   \n",
      "4  08-11-2024 18:10  8.905720e+12           SELF  Warehouse 1     return   \n",
      "\n",
      "     category  \n",
      "0  Category 1  \n",
      "1  Category 6  \n",
      "2  Category 6  \n",
      "3  Category 1  \n",
      "4  Category 6  \n",
      "\n",
      "PF Data:\n",
      "   Unnamed: 0          awbno     Return status  Return Quantity  \\\n",
      "0           0  R972189457AJI  RETURN_PROCESSED                1   \n",
      "1           1    1.95042E+14  RETURN_PROCESSED                1   \n",
      "2           2    1.95042E+14  RETURN_PROCESSED                1   \n",
      "3           3  R960845268AJI  RETURN_PROCESSED                1   \n",
      "4           4  R966944831AJI  RETURN_PROCESSED                1   \n",
      "\n",
      "                           Reason          SKU     orderID              date  \\\n",
      "0               Does_Not_Fit_Well  8.90572E+12  S262541859  30-09-2024 23:28   \n",
      "1  Not_Happy_With_Product_Quality  8.90572E+12  S262409205  30-09-2024 21:59   \n",
      "2  Not_Happy_With_Product_Quality  8.90572E+12  S262409205  30-09-2024 21:59   \n",
      "3      Want_To_Change_Style_Color  8.90572E+12  S262949936  30-09-2024 21:58   \n",
      "4        Does_Not_Look_Good_On_Me  8.90572E+12  S262726902  30-09-2024 21:56   \n",
      "\n",
      "    platform  \n",
      "0  Channel 1  \n",
      "1  Channel 1  \n",
      "2  Channel 1  \n",
      "3  Channel 1  \n",
      "4  Channel 1  \n"
     ]
    }
   ],
   "source": [
    "import pandas as pd\n",
    "\n",
    "# Load the datasets\n",
    "oms_df = pd.read_csv(\"oms.csv\")  # Load OMS file\n",
    "pf_df = pd.read_csv(\"pf.csv\")  # Load PF file\n",
    "\n",
    "# Show the first few rows of each dataset\n",
    "print(\"OMS Data:\")\n",
    "print(oms_df.head())\n",
    "\n",
    "print(\"\\nPF Data:\")\n",
    "print(pf_df.head())\n"
   ]
  },
  {
   "cell_type": "code",
   "execution_count": 27,
   "id": "9b2ad0fa-e138-49a9-b432-889c7b8548c9",
   "metadata": {},
   "outputs": [
    {
     "name": "stdout",
     "output_type": "stream",
     "text": [
      "OMS Columns: Index(['unnamed: 0', 'awbno', 'getstatus', 'inventory_status', 'orderid',\n",
      "       'suborder', 'date', 'received_date', 'sku', 'return_courier',\n",
      "       'warehouse', 'returntype', 'category'],\n",
      "      dtype='object')\n",
      "PF Columns: Index(['unnamed: 0', 'awbno', 'return status', 'return quantity', 'reason',\n",
      "       'sku', 'orderid', 'date', 'platform'],\n",
      "      dtype='object')\n"
     ]
    }
   ],
   "source": [
    "# Convert column names to lowercase for consistency\n",
    "oms_df.columns = oms_df.columns.str.lower()\n",
    "pf_df.columns = pf_df.columns.str.lower()\n",
    "\n",
    "# Display column names\n",
    "print(\"OMS Columns:\", oms_df.columns)\n",
    "print(\"PF Columns:\", pf_df.columns)\n"
   ]
  },
  {
   "cell_type": "code",
   "execution_count": 29,
   "id": "525c6a3b-f8ec-4927-9912-caff0970612d",
   "metadata": {},
   "outputs": [
    {
     "name": "stdout",
     "output_type": "stream",
     "text": [
      "unnamed: 0           int64\n",
      "awbno               object\n",
      "getstatus           object\n",
      "inventory_status    object\n",
      "orderid             object\n",
      "suborder            object\n",
      "date                object\n",
      "received_date       object\n",
      "sku                 object\n",
      "return_courier      object\n",
      "warehouse           object\n",
      "returntype          object\n",
      "category            object\n",
      "dtype: object\n",
      "unnamed: 0          int64\n",
      "awbno              object\n",
      "return status      object\n",
      "return quantity     int64\n",
      "reason             object\n",
      "sku                object\n",
      "orderid            object\n",
      "date               object\n",
      "platform           object\n",
      "dtype: object\n"
     ]
    }
   ],
   "source": [
    "# Handle missing values before conversion\n",
    "oms_df['awbno'] = oms_df['awbno'].fillna('').astype(str)\n",
    "pf_df['awbno'] = pf_df['awbno'].fillna('').astype(str)\n",
    "\n",
    "# Convert 'sku' and 'awbno' to string type\n",
    "oms_df['sku'] = oms_df['sku'].astype(str)\n",
    "pf_df['sku'] = pf_df['sku'].astype(str)\n",
    "\n",
    "# Verify the data types\n",
    "print(oms_df.dtypes)\n",
    "print(pf_df.dtypes)\n"
   ]
  },
  {
   "cell_type": "code",
   "execution_count": 31,
   "id": "5fd9ba1e-3a3e-4613-abae-a04db4d78bba",
   "metadata": {},
   "outputs": [
    {
     "name": "stdout",
     "output_type": "stream",
     "text": [
      "   unnamed: 0_x          awbno     return status  return quantity  \\\n",
      "0             0  R972189457AJI  RETURN_PROCESSED                1   \n",
      "1             1    1.95042E+14  RETURN_PROCESSED                1   \n",
      "2             2    1.95042E+14  RETURN_PROCESSED                1   \n",
      "3             3  R960845268AJI  RETURN_PROCESSED                1   \n",
      "4             4  R966944831AJI  RETURN_PROCESSED                1   \n",
      "\n",
      "                           reason          sku   orderid_x            date_x  \\\n",
      "0               Does_Not_Fit_Well  8.90572E+12  S262541859  30-09-2024 23:28   \n",
      "1  Not_Happy_With_Product_Quality  8.90572E+12  S262409205  30-09-2024 21:59   \n",
      "2  Not_Happy_With_Product_Quality  8.90572E+12  S262409205  30-09-2024 21:59   \n",
      "3      Want_To_Change_Style_Color  8.90572E+12  S262949936  30-09-2024 21:58   \n",
      "4        Does_Not_Look_Good_On_Me  8.90572E+12  S262726902  30-09-2024 21:56   \n",
      "\n",
      "    platform  unnamed: 0_y getstatus inventory_status orderid_y suborder  \\\n",
      "0  Channel 1           NaN       NaN              NaN       NaN      NaN   \n",
      "1  Channel 1           NaN       NaN              NaN       NaN      NaN   \n",
      "2  Channel 1           NaN       NaN              NaN       NaN      NaN   \n",
      "3  Channel 1           NaN       NaN              NaN       NaN      NaN   \n",
      "4  Channel 1           NaN       NaN              NaN       NaN      NaN   \n",
      "\n",
      "  date_y received_date return_courier warehouse returntype category  \n",
      "0    NaN           NaN            NaN       NaN        NaN      NaN  \n",
      "1    NaN           NaN            NaN       NaN        NaN      NaN  \n",
      "2    NaN           NaN            NaN       NaN        NaN      NaN  \n",
      "3    NaN           NaN            NaN       NaN        NaN      NaN  \n",
      "4    NaN           NaN            NaN       NaN        NaN      NaN  \n"
     ]
    }
   ],
   "source": [
    "# Merge datasets\n",
    "merged_df = pf_df.merge(oms_df, on=['sku', 'awbno'], how='left')\n",
    "\n",
    "# Show the first few rows of the merged data\n",
    "print(merged_df.head())\n"
   ]
  },
  {
   "cell_type": "code",
   "execution_count": 33,
   "id": "82bcfaf6-5813-4659-9c7c-b8059894158b",
   "metadata": {},
   "outputs": [
    {
     "name": "stdout",
     "output_type": "stream",
     "text": [
      "Merged data saved as merged_data.csv\n"
     ]
    }
   ],
   "source": [
    "# Save merged data\n",
    "output_path = \"merged_data.csv\"\n",
    "merged_df.to_csv(output_path, index=False)\n",
    "\n",
    "print(f\"Merged data saved as {output_path}\")\n"
   ]
  },
  {
   "cell_type": "code",
   "execution_count": 17,
   "id": "008f90ad-cb11-42c5-bcec-36cdbb6cc2c3",
   "metadata": {},
   "outputs": [
    {
     "name": "stdout",
     "output_type": "stream",
     "text": [
      "   unnamed: 0_x          awbno     return status  return quantity  \\\n",
      "0             0  R972189457AJI  RETURN_PROCESSED                1   \n",
      "1             1    1.95042E+14  RETURN_PROCESSED                1   \n",
      "2             2    1.95042E+14  RETURN_PROCESSED                1   \n",
      "3             3  R960845268AJI  RETURN_PROCESSED                1   \n",
      "4             4  R966944831AJI  RETURN_PROCESSED                1   \n",
      "\n",
      "                           reason          sku   orderid_x            date_x  \\\n",
      "0               Does_Not_Fit_Well  8.90572E+12  S262541859  30-09-2024 23:28   \n",
      "1  Not_Happy_With_Product_Quality  8.90572E+12  S262409205  30-09-2024 21:59   \n",
      "2  Not_Happy_With_Product_Quality  8.90572E+12  S262409205  30-09-2024 21:59   \n",
      "3      Want_To_Change_Style_Color  8.90572E+12  S262949936  30-09-2024 21:58   \n",
      "4        Does_Not_Look_Good_On_Me  8.90572E+12  S262726902  30-09-2024 21:56   \n",
      "\n",
      "    platform  unnamed: 0_y  getstatus  inventory_status  orderid_y  suborder  \\\n",
      "0  Channel 1           NaN        NaN               NaN        NaN       NaN   \n",
      "1  Channel 1           NaN        NaN               NaN        NaN       NaN   \n",
      "2  Channel 1           NaN        NaN               NaN        NaN       NaN   \n",
      "3  Channel 1           NaN        NaN               NaN        NaN       NaN   \n",
      "4  Channel 1           NaN        NaN               NaN        NaN       NaN   \n",
      "\n",
      "   date_y  received_date  return_courier  warehouse  returntype  category  \n",
      "0     NaN            NaN             NaN        NaN         NaN       NaN  \n",
      "1     NaN            NaN             NaN        NaN         NaN       NaN  \n",
      "2     NaN            NaN             NaN        NaN         NaN       NaN  \n",
      "3     NaN            NaN             NaN        NaN         NaN       NaN  \n",
      "4     NaN            NaN             NaN        NaN         NaN       NaN  \n",
      "unnamed: 0_x          int64\n",
      "awbno                object\n",
      "return status        object\n",
      "return quantity       int64\n",
      "reason               object\n",
      "sku                  object\n",
      "orderid_x            object\n",
      "date_x               object\n",
      "platform             object\n",
      "unnamed: 0_y        float64\n",
      "getstatus           float64\n",
      "inventory_status    float64\n",
      "orderid_y           float64\n",
      "suborder            float64\n",
      "date_y              float64\n",
      "received_date       float64\n",
      "return_courier      float64\n",
      "warehouse           float64\n",
      "returntype          float64\n",
      "category            float64\n",
      "dtype: object\n"
     ]
    }
   ],
   "source": [
    "import pandas as pd\n",
    "\n",
    "# Load the CSV file to check if it's correctly formatted\n",
    "df = pd.read_csv(\"merged_data.csv\")\n",
    "\n",
    "# Display the first few rows\n",
    "print(df.head())\n",
    "\n",
    "# Check data types\n",
    "print(df.dtypes)\n"
   ]
  },
  {
   "cell_type": "code",
   "execution_count": 32,
   "id": "41003425-b698-4027-9c53-857b42eed020",
   "metadata": {},
   "outputs": [],
   "source": [
    "# Save the CSV file again with correct encoding and separator\n",
    "df.to_csv(\"merged_data_fixed.csv\", index=False, encoding=\"utf-8\", sep=\",\")\n"
   ]
  },
  {
   "cell_type": "code",
   "execution_count": 42,
   "id": "7f2ce6fc-8a49-4b6e-9865-ec707113530a",
   "metadata": {},
   "outputs": [
    {
     "name": "stdout",
     "output_type": "stream",
     "text": [
      "   unnamed: 0_x          awbno     return status  return quantity  \\\n",
      "0             0  R972189457AJI  RETURN_PROCESSED                1   \n",
      "1             1    1.95042E+14  RETURN_PROCESSED                1   \n",
      "2             2    1.95042E+14  RETURN_PROCESSED                1   \n",
      "3             3  R960845268AJI  RETURN_PROCESSED                1   \n",
      "4             4  R966944831AJI  RETURN_PROCESSED                1   \n",
      "\n",
      "                           reason          sku   orderid_x            date_x  \\\n",
      "0               Does_Not_Fit_Well  8.90572E+12  S262541859  30-09-2024 23:28   \n",
      "1  Not_Happy_With_Product_Quality  8.90572E+12  S262409205  30-09-2024 21:59   \n",
      "2  Not_Happy_With_Product_Quality  8.90572E+12  S262409205  30-09-2024 21:59   \n",
      "3      Want_To_Change_Style_Color  8.90572E+12  S262949936  30-09-2024 21:58   \n",
      "4        Does_Not_Look_Good_On_Me  8.90572E+12  S262726902  30-09-2024 21:56   \n",
      "\n",
      "    platform  unnamed: 0_y  getstatus  inventory_status  orderid_y  suborder  \\\n",
      "0  Channel 1           NaN        NaN               NaN        NaN       NaN   \n",
      "1  Channel 1           NaN        NaN               NaN        NaN       NaN   \n",
      "2  Channel 1           NaN        NaN               NaN        NaN       NaN   \n",
      "3  Channel 1           NaN        NaN               NaN        NaN       NaN   \n",
      "4  Channel 1           NaN        NaN               NaN        NaN       NaN   \n",
      "\n",
      "   date_y  received_date  return_courier  warehouse  returntype  category  \n",
      "0     NaN            NaN             NaN        NaN         NaN       NaN  \n",
      "1     NaN            NaN             NaN        NaN         NaN       NaN  \n",
      "2     NaN            NaN             NaN        NaN         NaN       NaN  \n",
      "3     NaN            NaN             NaN        NaN         NaN       NaN  \n",
      "4     NaN            NaN             NaN        NaN         NaN       NaN  \n",
      "Index(['unnamed: 0_x', 'awbno', 'return status', 'return quantity', 'reason',\n",
      "       'sku', 'orderid_x', 'date_x', 'platform', 'unnamed: 0_y', 'getstatus',\n",
      "       'inventory_status', 'orderid_y', 'suborder', 'date_y', 'received_date',\n",
      "       'return_courier', 'warehouse', 'returntype', 'category'],\n",
      "      dtype='object')\n",
      "unnamed: 0_x            0\n",
      "awbno                7164\n",
      "return status         584\n",
      "return quantity         0\n",
      "reason               7597\n",
      "sku                     0\n",
      "orderid_x             161\n",
      "date_x                  0\n",
      "platform                0\n",
      "unnamed: 0_y        30974\n",
      "getstatus           30974\n",
      "inventory_status    30974\n",
      "orderid_y           30974\n",
      "suborder            30974\n",
      "date_y              30974\n",
      "received_date       30974\n",
      "return_courier      30974\n",
      "warehouse           30974\n",
      "returntype          30974\n",
      "category            30974\n",
      "dtype: int64\n"
     ]
    }
   ],
   "source": [
    "import pandas as pd\n",
    "\n",
    "# Load and display the CSV file\n",
    "df = pd.read_csv(\"merged_data.csv\")\n",
    "\n",
    "# Display first few rows\n",
    "print(df.head())\n",
    "\n",
    "# Show column names\n",
    "print(df.columns)\n",
    "\n",
    "# Check for missing values\n",
    "print(df.isnull().sum())\n"
   ]
  },
  {
   "cell_type": "code",
   "execution_count": 40,
   "id": "0dcb8de1-134c-46ae-b76e-3acd461a1e7c",
   "metadata": {},
   "outputs": [],
   "source": [
    "# Convert 'sku' and 'awbno' to strings while handling scientific notation\n",
    "def clean_sku_awbno(value):\n",
    "    try:\n",
    "        # Convert scientific notation to plain integer and then to string\n",
    "        return str(int(float(value)))\n",
    "    except (ValueError, TypeError):\n",
    "        # If the value is NaN or invalid, return it as is\n",
    "        return value\n",
    "\n",
    "df['sku'] = df['sku'].apply(clean_sku_awbno)\n",
    "df['awbno'] = df['awbno'].apply(clean_sku_awbno)\n"
   ]
  },
  {
   "cell_type": "code",
   "execution_count": 46,
   "id": "96899eb1-9559-4511-8aee-860f60253116",
   "metadata": {},
   "outputs": [
    {
     "name": "stdout",
     "output_type": "stream",
     "text": [
      "0    8.90572E+12\n",
      "1    8.90572E+12\n",
      "2    8.90572E+12\n",
      "3    8.90572E+12\n",
      "4    8.90572E+12\n",
      "Name: sku, dtype: object\n",
      "0    R972189457AJI\n",
      "1      1.95042E+14\n",
      "2      1.95042E+14\n",
      "3    R960845268AJI\n",
      "4    R966944831AJI\n",
      "Name: awbno, dtype: object\n",
      "unnamed: 0_x          int64\n",
      "awbno                object\n",
      "return status        object\n",
      "return quantity       int64\n",
      "reason               object\n",
      "sku                  object\n",
      "orderid_x            object\n",
      "date_x               object\n",
      "platform             object\n",
      "unnamed: 0_y        float64\n",
      "getstatus           float64\n",
      "inventory_status    float64\n",
      "orderid_y           float64\n",
      "suborder            float64\n",
      "date_y              float64\n",
      "received_date       float64\n",
      "return_courier      float64\n",
      "warehouse           float64\n",
      "returntype          float64\n",
      "category            float64\n",
      "dtype: object\n"
     ]
    }
   ],
   "source": [
    "print(df['sku'].head())\n",
    "print(df['awbno'].head())\n",
    "print(df.dtypes)\n"
   ]
  },
  {
   "cell_type": "code",
   "execution_count": 50,
   "id": "25ffb36e-f8d2-4095-b2f1-104caabdb008",
   "metadata": {},
   "outputs": [],
   "source": [
    "# Function to handle scientific notation and ensure string output\n",
    "def clean_sku_awbno(value):\n",
    "    try:\n",
    "        # Handle numeric values (float/scientific notation)\n",
    "        if isinstance(value, (float, int)):\n",
    "            return str(int(value))\n",
    "        # Handle string values that may be in scientific notation\n",
    "        elif isinstance(value, str) and 'E' in value:\n",
    "            return str(int(float(value)))\n",
    "        else:\n",
    "            return str(value)\n",
    "    except:\n",
    "        return value  # Return the original value if conversion fails\n",
    "\n",
    "# Apply the function to 'sku' and 'awbno'\n",
    "df['sku'] = df['sku'].apply(clean_sku_awbno)\n",
    "df['awbno'] = df['awbno'].apply(clean_sku_awbno)\n"
   ]
  },
  {
   "cell_type": "code",
   "execution_count": 52,
   "id": "0b6a34fe-c555-409c-a678-4905cc5a405f",
   "metadata": {},
   "outputs": [],
   "source": [
    "# Save the cleaned DataFrame to a CSV\n",
    "df.to_csv(\"merged_data_cleaned.csv\", index=False, encoding=\"utf-8\")\n"
   ]
  },
  {
   "cell_type": "code",
   "execution_count": 54,
   "id": "f938144a-a35a-4655-8519-99822bae4338",
   "metadata": {},
   "outputs": [
    {
     "name": "stdout",
     "output_type": "stream",
     "text": [
      "['8905720000000' 'missing']\n",
      "['R972189457AJI' '195042000000000' 'R960845268AJI' ... 'CLQR1001355511'\n",
      " 'R596539648TCQ' 'CLQR1001354681']\n"
     ]
    }
   ],
   "source": [
    "# Inspect problematic values in 'sku' and 'awbno'\n",
    "print(df['sku'].unique())\n",
    "print(df['awbno'].unique())\n"
   ]
  },
  {
   "cell_type": "code",
   "execution_count": 62,
   "id": "a6c77ae3-1f20-4890-8771-f7e4c688fdbd",
   "metadata": {},
   "outputs": [],
   "source": [
    "# Function to clean and convert 'sku' and 'awbno' columns\n",
    "def clean_sku_awbno(value):\n",
    "    try:\n",
    "        # Convert scientific notation or float to integer, then to string\n",
    "        if isinstance(value, (float, int)):\n",
    "            return str(int(value))\n",
    "        elif isinstance(value, str) and value.isdigit():\n",
    "            return value  # Keep string numbers as is\n",
    "        elif isinstance(value, str) and 'E' in value:\n",
    "            return str(int(float(value)))  # Convert scientific notation\n",
    "        else:\n",
    "            return 'unknown'  # Handle non-numeric values like 'missing'\n",
    "    except:\n",
    "        return 'unknown'  # Handle unexpected cases\n"
   ]
  },
  {
   "cell_type": "code",
   "execution_count": 64,
   "id": "f14b2755-e759-475a-81bf-4ffa6c27d5d4",
   "metadata": {},
   "outputs": [],
   "source": [
    "# Apply the function to the columns\n",
    "df['sku'] = df['sku'].apply(clean_sku_awbno)\n",
    "df['awbno'] = df['awbno'].apply(clean_sku_awbno)\n"
   ]
  },
  {
   "cell_type": "code",
   "execution_count": 66,
   "id": "225dd7eb-b035-41fd-a969-3148495ca803",
   "metadata": {},
   "outputs": [],
   "source": [
    "# Save the cleaned DataFrame\n",
    "df.to_csv(\"merged_data_cleaned.csv\", index=False, encoding=\"utf-8\")\n"
   ]
  },
  {
   "cell_type": "code",
   "execution_count": 68,
   "id": "2c5028c0-4970-476c-a859-bdc49e5d4ace",
   "metadata": {},
   "outputs": [
    {
     "name": "stdout",
     "output_type": "stream",
     "text": [
      "             sku            awbno\n",
      "0  8905720000000          unknown\n",
      "1  8905720000000  195042000000000\n",
      "2  8905720000000  195042000000000\n",
      "3  8905720000000          unknown\n",
      "4  8905720000000          unknown\n",
      "<class 'pandas.core.frame.DataFrame'>\n",
      "RangeIndex: 30974 entries, 0 to 30973\n",
      "Data columns (total 2 columns):\n",
      " #   Column  Non-Null Count  Dtype \n",
      "---  ------  --------------  ----- \n",
      " 0   sku     30974 non-null  object\n",
      " 1   awbno   30974 non-null  object\n",
      "dtypes: object(2)\n",
      "memory usage: 484.1+ KB\n",
      "None\n"
     ]
    }
   ],
   "source": [
    "print(df[['sku', 'awbno']].head())\n",
    "print(df[['sku', 'awbno']].info())\n"
   ]
  },
  {
   "cell_type": "code",
   "execution_count": 70,
   "id": "2bf19223-41b2-4a08-8ce1-a48fbd32aae5",
   "metadata": {},
   "outputs": [
    {
     "name": "stdout",
     "output_type": "stream",
     "text": [
      "Requirement already satisfied: openpyxl in c:\\users\\vigne\\anaconda3\\lib\\site-packages (3.0.10)\n",
      "Requirement already satisfied: et_xmlfile in c:\\users\\vigne\\anaconda3\\lib\\site-packages (from openpyxl) (1.1.0)\n",
      "Note: you may need to restart the kernel to use updated packages.\n"
     ]
    }
   ],
   "source": [
    "pip install openpyxl\n"
   ]
  },
  {
   "cell_type": "code",
   "execution_count": 72,
   "id": "8d3becd2-48f3-471e-a044-70ad5fa8c329",
   "metadata": {},
   "outputs": [],
   "source": [
    "# Import pandas with openpyxl engine\n",
    "import pandas as pd\n",
    "\n",
    "# Save the cleaned DataFrame as an .xlsx file\n",
    "df.to_excel(\"merged_data_cleaned.xlsx\", index=False, engine=\"openpyxl\")\n"
   ]
  },
  {
   "cell_type": "code",
   "execution_count": 76,
   "id": "db851856-c820-4a55-9fbf-321b4e1e86ba",
   "metadata": {},
   "outputs": [],
   "source": [
    "# Drop unnamed columns\n",
    "df = df.loc[:, ~df.columns.str.contains('^Unnamed')]\n"
   ]
  },
  {
   "cell_type": "code",
   "execution_count": 78,
   "id": "9e72d58b-b6c7-470e-903a-4d7b49a8e461",
   "metadata": {},
   "outputs": [],
   "source": [
    "# Drop rows where all elements are NaN\n",
    "df = df.dropna(how=\"all\")\n",
    "\n",
    "# Fill NaN with a placeholder value if needed\n",
    "df = df.fillna(\"N/A\")\n"
   ]
  },
  {
   "cell_type": "code",
   "execution_count": 80,
   "id": "dfe66d87-6a69-456c-98dd-612019d5e0a5",
   "metadata": {},
   "outputs": [],
   "source": [
    "# Replace commas in string columns to prevent issues\n",
    "df.replace(',', ' ', regex=True, inplace=True)\n"
   ]
  },
  {
   "cell_type": "code",
   "execution_count": 85,
   "id": "62677dae-f16e-481c-bbfd-b6b7eb575d05",
   "metadata": {},
   "outputs": [],
   "source": [
    "# Save the cleaned DataFrame to an Excel file\n",
    "df.to_excel(\"merged_data_cleaned.xlsx\", index=False, engine=\"openpyxl\")\n"
   ]
  },
  {
   "cell_type": "code",
   "execution_count": null,
   "id": "fb9a0fa9-c4b7-4009-82f7-45b785ade0e3",
   "metadata": {},
   "outputs": [],
   "source": []
  }
 ],
 "metadata": {
  "kernelspec": {
   "display_name": "Python [conda env:base] *",
   "language": "python",
   "name": "conda-base-py"
  },
  "language_info": {
   "codemirror_mode": {
    "name": "ipython",
    "version": 3
   },
   "file_extension": ".py",
   "mimetype": "text/x-python",
   "name": "python",
   "nbconvert_exporter": "python",
   "pygments_lexer": "ipython3",
   "version": "3.11.5"
  }
 },
 "nbformat": 4,
 "nbformat_minor": 5
}
