{
 "cells": [
  {
   "cell_type": "code",
   "execution_count": 1,
   "id": "4b2f8260-0e1d-4edf-bc04-f4a7554e1c9a",
   "metadata": {},
   "outputs": [
    {
     "name": "stdout",
     "output_type": "stream",
     "text": [
      "Requirement already satisfied: pandas in c:\\users\\vigne\\anaconda3\\lib\\site-packages (2.0.3)\n",
      "Requirement already satisfied: openpyxl in c:\\users\\vigne\\anaconda3\\lib\\site-packages (3.0.10)\n",
      "Requirement already satisfied: python-dateutil>=2.8.2 in c:\\users\\vigne\\anaconda3\\lib\\site-packages (from pandas) (2.8.2)\n",
      "Requirement already satisfied: pytz>=2020.1 in c:\\users\\vigne\\anaconda3\\lib\\site-packages (from pandas) (2023.3.post1)\n",
      "Requirement already satisfied: tzdata>=2022.1 in c:\\users\\vigne\\anaconda3\\lib\\site-packages (from pandas) (2023.3)\n",
      "Requirement already satisfied: numpy>=1.21.0 in c:\\users\\vigne\\anaconda3\\lib\\site-packages (from pandas) (1.24.3)\n",
      "Requirement already satisfied: et_xmlfile in c:\\users\\vigne\\anaconda3\\lib\\site-packages (from openpyxl) (1.1.0)\n",
      "Requirement already satisfied: six>=1.5 in c:\\users\\vigne\\anaconda3\\lib\\site-packages (from python-dateutil>=2.8.2->pandas) (1.16.0)\n"
     ]
    }
   ],
   "source": [
    "!pip install pandas openpyxl\n"
   ]
  },
  {
   "cell_type": "code",
   "execution_count": 29,
   "id": "e1c01b7e-4c11-465d-adc5-db5fc97da991",
   "metadata": {},
   "outputs": [
    {
     "name": "stdout",
     "output_type": "stream",
     "text": [
      "Task Sheet Data:\n"
     ]
    },
    {
     "data": {
      "text/html": [
       "<div>\n",
       "<style scoped>\n",
       "    .dataframe tbody tr th:only-of-type {\n",
       "        vertical-align: middle;\n",
       "    }\n",
       "\n",
       "    .dataframe tbody tr th {\n",
       "        vertical-align: top;\n",
       "    }\n",
       "\n",
       "    .dataframe thead th {\n",
       "        text-align: right;\n",
       "    }\n",
       "</style>\n",
       "<table border=\"1\" class=\"dataframe\">\n",
       "  <thead>\n",
       "    <tr style=\"text-align: right;\">\n",
       "      <th></th>\n",
       "      <th>Primary Key</th>\n",
       "      <th>Order Date</th>\n",
       "      <th>Product Category</th>\n",
       "      <th>Complaint</th>\n",
       "      <th>Cause</th>\n",
       "      <th>Correction</th>\n",
       "      <th>Root Cause</th>\n",
       "      <th>Symptom Condition 1</th>\n",
       "      <th>Symptom Component 1</th>\n",
       "      <th>Symptom Condition 2</th>\n",
       "      <th>Symptom Component 2</th>\n",
       "      <th>Symptom Condition 3</th>\n",
       "      <th>Symptom Component 3</th>\n",
       "      <th>Fix Condition 1</th>\n",
       "      <th>Fix Component 1</th>\n",
       "      <th>Fix Condition 2</th>\n",
       "      <th>Fix Component 2</th>\n",
       "      <th>Fix Condition 3</th>\n",
       "      <th>Fix Component 3</th>\n",
       "    </tr>\n",
       "  </thead>\n",
       "  <tbody>\n",
       "    <tr>\n",
       "      <th>0</th>\n",
       "      <td>SO0026296-1</td>\n",
       "      <td>2023-03-08</td>\n",
       "      <td>SPRAYS</td>\n",
       "      <td>VISIBLY NOTICE fasteners under cab on P clips ...</td>\n",
       "      <td>Not tighten at factory.</td>\n",
       "      <td>GO THROUGH AND RE-TIGHTEN ALL P CLIPS, NUTS, A...</td>\n",
       "      <td>Not Tightened</td>\n",
       "      <td>Loose</td>\n",
       "      <td>Cab P Clip</td>\n",
       "      <td>Loose</td>\n",
       "      <td>Left-Air Duct</td>\n",
       "      <td>Loose</td>\n",
       "      <td>Bulkhead Connector</td>\n",
       "      <td>Retightened</td>\n",
       "      <td>Cab P Clip</td>\n",
       "      <td>Retightened</td>\n",
       "      <td>Left Air Duct</td>\n",
       "      <td>Retightened</td>\n",
       "      <td>Bulkhead Connector</td>\n",
       "    </tr>\n",
       "    <tr>\n",
       "      <th>1</th>\n",
       "      <td>SO0026385-1</td>\n",
       "      <td>2023-03-08</td>\n",
       "      <td>SPRAYS</td>\n",
       "      <td>Fuel door will not stay open</td>\n",
       "      <td>GAS STRUT NOT INSTALLED OR ANYWHERE ON MACHINE</td>\n",
       "      <td>FOUND GAS STRUT NOT INSTALLED OR ANYWHERE ON M...</td>\n",
       "      <td>Not Installed</td>\n",
       "      <td>Won't stay open</td>\n",
       "      <td>Fuel Door</td>\n",
       "      <td>NaN</td>\n",
       "      <td>NaN</td>\n",
       "      <td>NaN</td>\n",
       "      <td>NaN</td>\n",
       "      <td>Installed</td>\n",
       "      <td>Gas Strut</td>\n",
       "      <td>NaN</td>\n",
       "      <td>NaN</td>\n",
       "      <td>NaN</td>\n",
       "      <td>NaN</td>\n",
       "    </tr>\n",
       "    <tr>\n",
       "      <th>2</th>\n",
       "      <td>SO0026385-11</td>\n",
       "      <td>2023-03-08</td>\n",
       "      <td>SPRAYS</td>\n",
       "      <td>Compressor pressure line, braided steel, crushed</td>\n",
       "      <td>Compressor pressure line, braided steel, crush...</td>\n",
       "      <td>DRAIN AIR FROM SYSTEM.REMOVE ASSOCIATED P CLIP...</td>\n",
       "      <td>NaN</td>\n",
       "      <td>NaN</td>\n",
       "      <td>NaN</td>\n",
       "      <td>NaN</td>\n",
       "      <td>NaN</td>\n",
       "      <td>NaN</td>\n",
       "      <td>NaN</td>\n",
       "      <td>NaN</td>\n",
       "      <td>NaN</td>\n",
       "      <td>NaN</td>\n",
       "      <td>NaN</td>\n",
       "      <td>NaN</td>\n",
       "      <td>NaN</td>\n",
       "    </tr>\n",
       "    <tr>\n",
       "      <th>3</th>\n",
       "      <td>SO0028352-1</td>\n",
       "      <td>2023-03-08</td>\n",
       "      <td>SPRAYS</td>\n",
       "      <td>Oil running from bottom of machine</td>\n",
       "      <td>OIL RETURN UNDER MACHINE SWIVEL FITTING LEFT L...</td>\n",
       "      <td>OIL RETURN UNDER MACHINE SWIVEL FITTING LEFT L...</td>\n",
       "      <td>NaN</td>\n",
       "      <td>NaN</td>\n",
       "      <td>NaN</td>\n",
       "      <td>NaN</td>\n",
       "      <td>NaN</td>\n",
       "      <td>NaN</td>\n",
       "      <td>NaN</td>\n",
       "      <td>NaN</td>\n",
       "      <td>NaN</td>\n",
       "      <td>NaN</td>\n",
       "      <td>NaN</td>\n",
       "      <td>NaN</td>\n",
       "      <td>NaN</td>\n",
       "    </tr>\n",
       "    <tr>\n",
       "      <th>4</th>\n",
       "      <td>SO0028770-1</td>\n",
       "      <td>2023-03-08</td>\n",
       "      <td>SPRAYS</td>\n",
       "      <td>MISSING VECTOR &amp; INTRIP UNLOCKS.</td>\n",
       "      <td>MISSING VECTOR &amp; INTRIP UNLOCKS WERE NOT INSTA...</td>\n",
       "      <td>INSTALLED MISSING UNLOCKS RAN AND TESTED.</td>\n",
       "      <td>NaN</td>\n",
       "      <td>NaN</td>\n",
       "      <td>NaN</td>\n",
       "      <td>NaN</td>\n",
       "      <td>NaN</td>\n",
       "      <td>NaN</td>\n",
       "      <td>NaN</td>\n",
       "      <td>NaN</td>\n",
       "      <td>NaN</td>\n",
       "      <td>NaN</td>\n",
       "      <td>NaN</td>\n",
       "      <td>NaN</td>\n",
       "      <td>NaN</td>\n",
       "    </tr>\n",
       "  </tbody>\n",
       "</table>\n",
       "</div>"
      ],
      "text/plain": [
       "    Primary Key Order Date Product Category  \\\n",
       "0   SO0026296-1 2023-03-08           SPRAYS   \n",
       "1   SO0026385-1 2023-03-08           SPRAYS   \n",
       "2  SO0026385-11 2023-03-08           SPRAYS   \n",
       "3   SO0028352-1 2023-03-08           SPRAYS   \n",
       "4   SO0028770-1 2023-03-08           SPRAYS   \n",
       "\n",
       "                                           Complaint  \\\n",
       "0  VISIBLY NOTICE fasteners under cab on P clips ...   \n",
       "1                       Fuel door will not stay open   \n",
       "2   Compressor pressure line, braided steel, crushed   \n",
       "3                 Oil running from bottom of machine   \n",
       "4                   MISSING VECTOR & INTRIP UNLOCKS.   \n",
       "\n",
       "                                               Cause  \\\n",
       "0                            Not tighten at factory.   \n",
       "1     GAS STRUT NOT INSTALLED OR ANYWHERE ON MACHINE   \n",
       "2  Compressor pressure line, braided steel, crush...   \n",
       "3  OIL RETURN UNDER MACHINE SWIVEL FITTING LEFT L...   \n",
       "4  MISSING VECTOR & INTRIP UNLOCKS WERE NOT INSTA...   \n",
       "\n",
       "                                          Correction     Root Cause  \\\n",
       "0  GO THROUGH AND RE-TIGHTEN ALL P CLIPS, NUTS, A...  Not Tightened   \n",
       "1  FOUND GAS STRUT NOT INSTALLED OR ANYWHERE ON M...  Not Installed   \n",
       "2  DRAIN AIR FROM SYSTEM.REMOVE ASSOCIATED P CLIP...            NaN   \n",
       "3  OIL RETURN UNDER MACHINE SWIVEL FITTING LEFT L...            NaN   \n",
       "4          INSTALLED MISSING UNLOCKS RAN AND TESTED.            NaN   \n",
       "\n",
       "  Symptom Condition 1 Symptom Component 1 Symptom Condition 2  \\\n",
       "0               Loose          Cab P Clip               Loose   \n",
       "1     Won't stay open           Fuel Door                 NaN   \n",
       "2                 NaN                 NaN                 NaN   \n",
       "3                 NaN                 NaN                 NaN   \n",
       "4                 NaN                 NaN                 NaN   \n",
       "\n",
       "  Symptom Component 2 Symptom Condition 3 Symptom Component 3 Fix Condition 1  \\\n",
       "0       Left-Air Duct               Loose  Bulkhead Connector     Retightened   \n",
       "1                 NaN                 NaN                 NaN       Installed   \n",
       "2                 NaN                 NaN                 NaN             NaN   \n",
       "3                 NaN                 NaN                 NaN             NaN   \n",
       "4                 NaN                 NaN                 NaN             NaN   \n",
       "\n",
       "  Fix Component 1 Fix Condition 2 Fix Component 2 Fix Condition 3  \\\n",
       "0      Cab P Clip     Retightened   Left Air Duct     Retightened   \n",
       "1       Gas Strut             NaN             NaN             NaN   \n",
       "2             NaN             NaN             NaN             NaN   \n",
       "3             NaN             NaN             NaN             NaN   \n",
       "4             NaN             NaN             NaN             NaN   \n",
       "\n",
       "      Fix Component 3  \n",
       "0  Bulkhead Connector  \n",
       "1                 NaN  \n",
       "2                 NaN  \n",
       "3                 NaN  \n",
       "4                 NaN  "
      ]
     },
     "metadata": {},
     "output_type": "display_data"
    },
    {
     "name": "stdout",
     "output_type": "stream",
     "text": [
      "Taxonomy Sheet Data:\n"
     ]
    },
    {
     "data": {
      "text/html": [
       "<div>\n",
       "<style scoped>\n",
       "    .dataframe tbody tr th:only-of-type {\n",
       "        vertical-align: middle;\n",
       "    }\n",
       "\n",
       "    .dataframe tbody tr th {\n",
       "        vertical-align: top;\n",
       "    }\n",
       "\n",
       "    .dataframe thead th {\n",
       "        text-align: right;\n",
       "    }\n",
       "</style>\n",
       "<table border=\"1\" class=\"dataframe\">\n",
       "  <thead>\n",
       "    <tr style=\"text-align: right;\">\n",
       "      <th></th>\n",
       "      <th>Root Cause</th>\n",
       "      <th>Symptom Condition</th>\n",
       "      <th>Symptom Component</th>\n",
       "      <th>Fix Condition</th>\n",
       "      <th>Fix Component</th>\n",
       "    </tr>\n",
       "  </thead>\n",
       "  <tbody>\n",
       "    <tr>\n",
       "      <th>0</th>\n",
       "      <td>Not Tightened</td>\n",
       "      <td>Loose</td>\n",
       "      <td>Cab P Clip</td>\n",
       "      <td>Retightened</td>\n",
       "      <td>Cab P Clip</td>\n",
       "    </tr>\n",
       "    <tr>\n",
       "      <th>1</th>\n",
       "      <td>Not Installed</td>\n",
       "      <td>Won't stay open</td>\n",
       "      <td>Fuel Door</td>\n",
       "      <td>Installed</td>\n",
       "      <td>Gas Strut</td>\n",
       "    </tr>\n",
       "    <tr>\n",
       "      <th>2</th>\n",
       "      <td>Not Mentioned</td>\n",
       "      <td>Crushed</td>\n",
       "      <td>Compressor Pressure Line</td>\n",
       "      <td>Replaced</td>\n",
       "      <td>Braided Steel</td>\n",
       "    </tr>\n",
       "    <tr>\n",
       "      <th>3</th>\n",
       "      <td>Loosened</td>\n",
       "      <td>Oil Running</td>\n",
       "      <td>Not Mentioned</td>\n",
       "      <td>Topped Off</td>\n",
       "      <td>O-Ring</td>\n",
       "    </tr>\n",
       "    <tr>\n",
       "      <th>4</th>\n",
       "      <td>Not Included</td>\n",
       "      <td>Missing</td>\n",
       "      <td>Vector</td>\n",
       "      <td>Not Mentioned</td>\n",
       "      <td>Vector</td>\n",
       "    </tr>\n",
       "  </tbody>\n",
       "</table>\n",
       "</div>"
      ],
      "text/plain": [
       "      Root Cause Symptom Condition          Symptom Component  Fix Condition  \\\n",
       "0  Not Tightened              Loose                Cab P Clip    Retightened   \n",
       "1  Not Installed    Won't stay open                 Fuel Door      Installed   \n",
       "2  Not Mentioned            Crushed  Compressor Pressure Line       Replaced   \n",
       "3       Loosened        Oil Running             Not Mentioned     Topped Off   \n",
       "4   Not Included            Missing                    Vector  Not Mentioned   \n",
       "\n",
       "   Fix Component  \n",
       "0     Cab P Clip  \n",
       "1      Gas Strut  \n",
       "2  Braided Steel  \n",
       "3         O-Ring  \n",
       "4         Vector  "
      ]
     },
     "metadata": {},
     "output_type": "display_data"
    }
   ],
   "source": [
    "import pandas as pd\n",
    "\n",
    "# Load the dataset\n",
    "file_path = \"DA - Task 1..xlsx\"\n",
    "\n",
    "# Read the \"Task\" sheet\n",
    "task_data = pd.read_excel(file_path, sheet_name=\"Task\")\n",
    "\n",
    "# Read the \"Taxonomy\" sheet\n",
    "taxonomy_data = pd.read_excel(file_path, sheet_name=\"Taxonomy\")\n",
    "\n",
    "# Display first few rows\n",
    "print(\"Task Sheet Data:\")\n",
    "display(task_data.head())\n",
    "\n",
    "print(\"Taxonomy Sheet Data:\")\n",
    "display(taxonomy_data.head())\n"
   ]
  },
  {
   "cell_type": "code",
   "execution_count": 31,
   "id": "d2f1be92-3ab9-4ba4-ab66-beff04ae0837",
   "metadata": {},
   "outputs": [
    {
     "name": "stdout",
     "output_type": "stream",
     "text": [
      "Columns in Task Sheet: ['Primary Key', 'Order Date', 'Product Category', 'Complaint', 'Cause', 'Correction', 'Root Cause', 'Symptom Condition 1', 'Symptom Component 1', 'Symptom Condition 2', 'Symptom Component 2', 'Symptom Condition 3', 'Symptom Component 3', 'Fix Condition 1', 'Fix Component 1', 'Fix Condition 2', 'Fix Component 2', 'Fix Condition 3', 'Fix Component 3']\n",
      "Columns in Taxonomy Sheet: ['Root Cause', 'Symptom Condition ', 'Symptom Component', 'Fix Condition', 'Fix Component']\n"
     ]
    }
   ],
   "source": [
    "print(\"Columns in Task Sheet:\", task_data.columns.tolist())\n",
    "print(\"Columns in Taxonomy Sheet:\", taxonomy_data.columns.tolist())\n"
   ]
  },
  {
   "cell_type": "code",
   "execution_count": 33,
   "id": "823dc0bf-e3c2-4af8-b4c6-d918020595da",
   "metadata": {},
   "outputs": [
    {
     "name": "stdout",
     "output_type": "stream",
     "text": [
      "Columns in Task Sheet: ['Primary Key', 'Order Date', 'Product Category', 'Complaint', 'Cause', 'Correction', 'Root Cause', 'Symptom Condition 1', 'Symptom Component 1', 'Symptom Condition 2', 'Symptom Component 2', 'Symptom Condition 3', 'Symptom Component 3', 'Fix Condition 1', 'Fix Component 1', 'Fix Condition 2', 'Fix Component 2', 'Fix Condition 3', 'Fix Component 3']\n"
     ]
    }
   ],
   "source": [
    "\n",
    "import pandas as pd\n",
    "\n",
    "# Load dataset\n",
    "file_path = \"DA - Task 1..xlsx\"\n",
    "task_data = pd.read_excel(file_path, sheet_name=\"Task\")\n",
    "\n",
    "# Print all column names in the Task sheet\n",
    "print(\"Columns in Task Sheet:\", task_data.columns.tolist())\n"
   ]
  },
  {
   "cell_type": "code",
   "execution_count": 35,
   "id": "b4f63fdb-3774-4cbf-815e-3972524db12e",
   "metadata": {},
   "outputs": [
    {
     "data": {
      "text/plain": [
       "0     GO THROUGH AND RE-TIGHTEN ALL P CLIPS, NUTS, A...\n",
       "1     FOUND GAS STRUT NOT INSTALLED OR ANYWHERE ON M...\n",
       "2     DRAIN AIR FROM SYSTEM.REMOVE ASSOCIATED P CLIP...\n",
       "3     OIL RETURN UNDER MACHINE SWIVEL FITTING LEFT L...\n",
       "4             INSTALLED MISSING UNLOCKS RAN AND TESTED.\n",
       "5     REMOVE COUPLER FREE UP WITH HAMMER AND SOCKET ...\n",
       "6     SERVICE CALL 7 MILES.INSTALL MISSING BRACKETS ...\n",
       "7     SERVICE CALL14 MILES.O-RING ON MALE QUICK CONN...\n",
       "8     LOADED TRUCK AND DROVE OUT TO SPRAYER GOT TO S...\n",
       "9     I WAS OUT TO FARM AND I REPLACED THE NCV HARNE...\n",
       "10    TOTAL MILES: 160MILEAGE IN: 181342MILEAGE OUT:...\n",
       "11    BEGAN TROUBLESHOOTING FUEL SENDER CODE. PULLED...\n",
       "12    BEGAN TROUBLESHOOTING OIL LEAK. FOUND IT WAS D...\n",
       "13    SERVICE CALLSTART MACHINE TO FIND LEAKING HOSE...\n",
       "14    Kevin Hammer of CNH was here to go over the PD...\n",
       "15    REMOVE INTAKE HUMIDITY SENSOR.LUBRICANT USED O...\n",
       "16    TOTAL MILES: 163MILEAGE OUT: 17263MILEAGE IN: ...\n",
       "17    I WENT OUT TO FIELD AND I HOOKED UP EST AND FO...\n",
       "18    FOUND ELBOW FITTING FOR PUMP. TRANSDUCER WAS O...\n",
       "19    Drove machine into shop. Found that the conden...\n",
       "Name: Correction, dtype: object"
      ]
     },
     "execution_count": 35,
     "metadata": {},
     "output_type": "execute_result"
    }
   ],
   "source": [
    "task_data[\"Cause\"]\n",
    "task_data[\"Complaint\"]\n",
    "task_data[\"Correction\"]\n"
   ]
  },
  {
   "cell_type": "code",
   "execution_count": 37,
   "id": "5d492319-ecc3-4857-8d49-5ae4f6b83c58",
   "metadata": {},
   "outputs": [
    {
     "data": {
      "text/plain": [
       "0                               Not tighten at factory.\n",
       "1        GAS STRUT NOT INSTALLED OR ANYWHERE ON MACHINE\n",
       "2     Compressor pressure line, braided steel, crush...\n",
       "3     OIL RETURN UNDER MACHINE SWIVEL FITTING LEFT L...\n",
       "4     MISSING VECTOR & INTRIP UNLOCKS WERE NOT INSTA...\n",
       "5                                  Coupler was leaking.\n",
       "6                             NOT INCLUDED FROM FACTORY\n",
       "7     O-RING ON MALE QUICK CONNECT STICKING OUT OF F...\n",
       "8                                           BLOWN ORING\n",
       "9                              POOR MATERIAL IN HARNESS\n",
       "10                          SIGHT GLASS TUBE IS LEAKING\n",
       "11       FAILED SENDING UNITPN: 51457614UNIT HRS: 19.75\n",
       "12    NO ORING IN BOTTOM OIL COOLER FITTINGUNIT HRS ...\n",
       "13    FACTORY DID NOT TIGHTEN HOSE, PART NUMBER 9039...\n",
       "14                                 SENSORS OUT OF RANGE\n",
       "15    LUBRICANT USED ON O-RING HAD DRIP DOWN CONTAMI...\n",
       "16         FAULTY AUTOBOOM SENSORAUTOBOOM NODE SOFTWARE\n",
       "17                      INTERNAL ISSUE IN SUPPLY MODULE\n",
       "18              TRANSDUCER WAS ONLY SCREWED IN A THREAD\n",
       "19     Faulty bolts in bracketPN: 47953465Unit Hrs: 265\n",
       "Name: Cause, dtype: object"
      ]
     },
     "execution_count": 37,
     "metadata": {},
     "output_type": "execute_result"
    }
   ],
   "source": [
    "task_data[\"Cause\"]\n"
   ]
  },
  {
   "cell_type": "code",
   "execution_count": 39,
   "id": "dcbc80e1-67c9-4b57-a70b-99d1ac86a7f5",
   "metadata": {},
   "outputs": [
    {
     "name": "stdout",
     "output_type": "stream",
     "text": [
      "Cleaned Columns in Task Sheet: ['primary key', 'order date', 'product category', 'complaint', 'cause', 'correction', 'root cause', 'symptom condition 1', 'symptom component 1', 'symptom condition 2', 'symptom component 2', 'symptom condition 3', 'symptom component 3', 'fix condition 1', 'fix component 1', 'fix condition 2', 'fix component 2', 'fix condition 3', 'fix component 3']\n"
     ]
    }
   ],
   "source": [
    "# Remove spaces and convert column names to lowercase\n",
    "task_data.columns = task_data.columns.str.strip()\n",
    "task_data.columns = task_data.columns.str.lower()\n",
    "\n",
    "# Print cleaned column names\n",
    "print(\"Cleaned Columns in Task Sheet:\", task_data.columns.tolist())\n"
   ]
  },
  {
   "cell_type": "code",
   "execution_count": 55,
   "id": "1c7a64e7-0623-4d9e-bcc2-3ffdfb805e75",
   "metadata": {},
   "outputs": [
    {
     "name": "stdout",
     "output_type": "stream",
     "text": [
      "Cleaned Columns in Task Sheet: ['Primary_Key', 'Order_Date', 'Product_Category', 'Complaint', 'Cause', 'Correction', 'Root_Cause', 'Symptom_Condition_1', 'Symptom_Component_1', 'Symptom_Condition_2', 'Symptom_Component_2', 'Symptom_Condition_3', 'Symptom_Component_3', 'Fix_Condition_1', 'Fix_Component_1', 'Fix_Condition_2', 'Fix_Component_2', 'Fix_Condition_3', 'Fix_Component_3']\n"
     ]
    }
   ],
   "source": [
    "# Remove spaces and convert column names to lowercase\n",
    "task_data.columns = task_data.columns.str.strip()  # Remove spaces\n",
    "task_data.columns = task_data.columns.str.replace(\" \", \"_\")  # Replace spaces with underscores\n",
    "\n",
    "# Print cleaned column names\n",
    "print(\"Cleaned Columns in Task Sheet:\", task_data.columns.tolist())\n"
   ]
  },
  {
   "cell_type": "code",
   "execution_count": 71,
   "id": "d3c0e605-e279-4071-af75-db093823ee41",
   "metadata": {},
   "outputs": [
    {
     "ename": "KeyError",
     "evalue": "('Symptom_Condition_1', 'Symptom_Condition_2', 'Symptom_Condition_3')",
     "output_type": "error",
     "traceback": [
      "\u001b[1;31m---------------------------------------------------------------------------\u001b[0m",
      "\u001b[1;31mKeyError\u001b[0m                                  Traceback (most recent call last)",
      "File \u001b[1;32m~\\anaconda3\\Lib\\site-packages\\pandas\\core\\indexes\\base.py:3653\u001b[0m, in \u001b[0;36mIndex.get_loc\u001b[1;34m(self, key)\u001b[0m\n\u001b[0;32m   3652\u001b[0m \u001b[38;5;28;01mtry\u001b[39;00m:\n\u001b[1;32m-> 3653\u001b[0m     \u001b[38;5;28;01mreturn\u001b[39;00m \u001b[38;5;28mself\u001b[39m\u001b[38;5;241m.\u001b[39m_engine\u001b[38;5;241m.\u001b[39mget_loc(casted_key)\n\u001b[0;32m   3654\u001b[0m \u001b[38;5;28;01mexcept\u001b[39;00m \u001b[38;5;167;01mKeyError\u001b[39;00m \u001b[38;5;28;01mas\u001b[39;00m err:\n",
      "File \u001b[1;32m~\\anaconda3\\Lib\\site-packages\\pandas\\_libs\\index.pyx:147\u001b[0m, in \u001b[0;36mpandas._libs.index.IndexEngine.get_loc\u001b[1;34m()\u001b[0m\n",
      "File \u001b[1;32m~\\anaconda3\\Lib\\site-packages\\pandas\\_libs\\index.pyx:176\u001b[0m, in \u001b[0;36mpandas._libs.index.IndexEngine.get_loc\u001b[1;34m()\u001b[0m\n",
      "File \u001b[1;32mpandas\\_libs\\hashtable_class_helper.pxi:7080\u001b[0m, in \u001b[0;36mpandas._libs.hashtable.PyObjectHashTable.get_item\u001b[1;34m()\u001b[0m\n",
      "File \u001b[1;32mpandas\\_libs\\hashtable_class_helper.pxi:7088\u001b[0m, in \u001b[0;36mpandas._libs.hashtable.PyObjectHashTable.get_item\u001b[1;34m()\u001b[0m\n",
      "\u001b[1;31mKeyError\u001b[0m: ('Symptom_Condition_1', 'Symptom_Condition_2', 'Symptom_Condition_3')",
      "\nThe above exception was the direct cause of the following exception:\n",
      "\u001b[1;31mKeyError\u001b[0m                                  Traceback (most recent call last)",
      "Cell \u001b[1;32mIn[71], line 3\u001b[0m\n\u001b[0;32m      1\u001b[0m \u001b[38;5;66;03m# Extract unique values from the taxonomy sheet\u001b[39;00m\n\u001b[0;32m      2\u001b[0m root_causes \u001b[38;5;241m=\u001b[39m taxonomy_data[\u001b[38;5;124m\"\u001b[39m\u001b[38;5;124mRoot Cause\u001b[39m\u001b[38;5;124m\"\u001b[39m]\u001b[38;5;241m.\u001b[39mdropna()\u001b[38;5;241m.\u001b[39munique()\n\u001b[1;32m----> 3\u001b[0m symptom_conditions \u001b[38;5;241m=\u001b[39m taxonomy_data[\u001b[38;5;124m'\u001b[39m\u001b[38;5;124mSymptom_Condition_1\u001b[39m\u001b[38;5;124m'\u001b[39m,\u001b[38;5;124m'\u001b[39m\u001b[38;5;124mSymptom_Condition_2\u001b[39m\u001b[38;5;124m'\u001b[39m,\u001b[38;5;124m'\u001b[39m\u001b[38;5;124mSymptom_Condition_3\u001b[39m\u001b[38;5;124m'\u001b[39m]\u001b[38;5;241m.\u001b[39mdropna()\u001b[38;5;241m.\u001b[39munique()\n\u001b[0;32m      4\u001b[0m symptom_components \u001b[38;5;241m=\u001b[39m taxonomy_data[\u001b[38;5;124m\"\u001b[39m\u001b[38;5;124mSymptom_Component_1\u001b[39m\u001b[38;5;124m\"\u001b[39m,\u001b[38;5;124m\"\u001b[39m\u001b[38;5;124mSymptom_Component_2\u001b[39m\u001b[38;5;124m\"\u001b[39m,\u001b[38;5;124m\"\u001b[39m\u001b[38;5;124mSymptom_Component_3\u001b[39m\u001b[38;5;124m\"\u001b[39m]\u001b[38;5;241m.\u001b[39mdropna()\u001b[38;5;241m.\u001b[39munique()\n\u001b[0;32m      5\u001b[0m fix_conditions \u001b[38;5;241m=\u001b[39m taxonomy_data[\u001b[38;5;124m\"\u001b[39m\u001b[38;5;124mFix_Condition_1\u001b[39m\u001b[38;5;124m\"\u001b[39m,\u001b[38;5;124m\"\u001b[39m\u001b[38;5;124mFix_Condition_2\u001b[39m\u001b[38;5;124m\"\u001b[39m,\u001b[38;5;124m\"\u001b[39m\u001b[38;5;124mFix_Condition_3\u001b[39m\u001b[38;5;124m\"\u001b[39m]\u001b[38;5;241m.\u001b[39mdropna()\u001b[38;5;241m.\u001b[39munique()\n",
      "File \u001b[1;32m~\\anaconda3\\Lib\\site-packages\\pandas\\core\\frame.py:3761\u001b[0m, in \u001b[0;36mDataFrame.__getitem__\u001b[1;34m(self, key)\u001b[0m\n\u001b[0;32m   3759\u001b[0m \u001b[38;5;28;01mif\u001b[39;00m \u001b[38;5;28mself\u001b[39m\u001b[38;5;241m.\u001b[39mcolumns\u001b[38;5;241m.\u001b[39mnlevels \u001b[38;5;241m>\u001b[39m \u001b[38;5;241m1\u001b[39m:\n\u001b[0;32m   3760\u001b[0m     \u001b[38;5;28;01mreturn\u001b[39;00m \u001b[38;5;28mself\u001b[39m\u001b[38;5;241m.\u001b[39m_getitem_multilevel(key)\n\u001b[1;32m-> 3761\u001b[0m indexer \u001b[38;5;241m=\u001b[39m \u001b[38;5;28mself\u001b[39m\u001b[38;5;241m.\u001b[39mcolumns\u001b[38;5;241m.\u001b[39mget_loc(key)\n\u001b[0;32m   3762\u001b[0m \u001b[38;5;28;01mif\u001b[39;00m is_integer(indexer):\n\u001b[0;32m   3763\u001b[0m     indexer \u001b[38;5;241m=\u001b[39m [indexer]\n",
      "File \u001b[1;32m~\\anaconda3\\Lib\\site-packages\\pandas\\core\\indexes\\base.py:3655\u001b[0m, in \u001b[0;36mIndex.get_loc\u001b[1;34m(self, key)\u001b[0m\n\u001b[0;32m   3653\u001b[0m     \u001b[38;5;28;01mreturn\u001b[39;00m \u001b[38;5;28mself\u001b[39m\u001b[38;5;241m.\u001b[39m_engine\u001b[38;5;241m.\u001b[39mget_loc(casted_key)\n\u001b[0;32m   3654\u001b[0m \u001b[38;5;28;01mexcept\u001b[39;00m \u001b[38;5;167;01mKeyError\u001b[39;00m \u001b[38;5;28;01mas\u001b[39;00m err:\n\u001b[1;32m-> 3655\u001b[0m     \u001b[38;5;28;01mraise\u001b[39;00m \u001b[38;5;167;01mKeyError\u001b[39;00m(key) \u001b[38;5;28;01mfrom\u001b[39;00m \u001b[38;5;21;01merr\u001b[39;00m\n\u001b[0;32m   3656\u001b[0m \u001b[38;5;28;01mexcept\u001b[39;00m \u001b[38;5;167;01mTypeError\u001b[39;00m:\n\u001b[0;32m   3657\u001b[0m     \u001b[38;5;66;03m# If we have a listlike key, _check_indexing_error will raise\u001b[39;00m\n\u001b[0;32m   3658\u001b[0m     \u001b[38;5;66;03m#  InvalidIndexError. Otherwise we fall through and re-raise\u001b[39;00m\n\u001b[0;32m   3659\u001b[0m     \u001b[38;5;66;03m#  the TypeError.\u001b[39;00m\n\u001b[0;32m   3660\u001b[0m     \u001b[38;5;28mself\u001b[39m\u001b[38;5;241m.\u001b[39m_check_indexing_error(key)\n",
      "\u001b[1;31mKeyError\u001b[0m: ('Symptom_Condition_1', 'Symptom_Condition_2', 'Symptom_Condition_3')"
     ]
    }
   ],
   "source": [
    "# Extract unique values from the taxonomy sheet\n",
    "root_causes = taxonomy_data[\"Root Cause\"].dropna().unique()\n",
    "symptom_conditions = taxonomy_data['Symptom_Condition_1','Symptom_Condition_2','Symptom_Condition_3'].dropna().unique()\n",
    "symptom_components = taxonomy_data[\"Symptom_Component_1\",\"Symptom_Component_2\",\"Symptom_Component_3\"].dropna().unique()\n",
    "fix_conditions = taxonomy_data[\"Fix_Condition_1\",\"Fix_Condition_2\",\"Fix_Condition_3\"].dropna().unique()\n",
    "fix_components = taxonomy_data[\"Fix_Component_1\",\"Fix_Component_2\",\"Fix_Component_3\"].dropna().unique()\n"
   ]
  },
  {
   "cell_type": "code",
   "execution_count": 69,
   "id": "8af95819-b012-4fd1-85cd-b8ebdceea66e",
   "metadata": {},
   "outputs": [
    {
     "ename": "NameError",
     "evalue": "name 'symptom_conditions' is not defined",
     "output_type": "error",
     "traceback": [
      "\u001b[1;31m---------------------------------------------------------------------------\u001b[0m",
      "\u001b[1;31mNameError\u001b[0m                                 Traceback (most recent call last)",
      "Cell \u001b[1;32mIn[69], line 6\u001b[0m\n\u001b[0;32m      3\u001b[0m     \u001b[38;5;28;01mreturn\u001b[39;00m {\u001b[38;5;28mstr\u001b[39m(category)\u001b[38;5;241m.\u001b[39mlower(): category \u001b[38;5;28;01mfor\u001b[39;00m category \u001b[38;5;129;01min\u001b[39;00m category_list}\n\u001b[0;32m      5\u001b[0m root_cause_dict \u001b[38;5;241m=\u001b[39m create_lookup_dict(root_causes)\n\u001b[1;32m----> 6\u001b[0m symptom_condition_dict \u001b[38;5;241m=\u001b[39m create_lookup_dict(symptom_conditions)\n\u001b[0;32m      7\u001b[0m symptom_component_dict \u001b[38;5;241m=\u001b[39m create_lookup_dict(symptom_components)\n\u001b[0;32m      8\u001b[0m fix_condition_dict \u001b[38;5;241m=\u001b[39m create_lookup_dict(fix_conditions)\n",
      "\u001b[1;31mNameError\u001b[0m: name 'symptom_conditions' is not defined"
     ]
    }
   ],
   "source": [
    "# Convert taxonomy lists to dictionary-based lookup\n",
    "def create_lookup_dict(category_list):\n",
    "    return {str(category).lower(): category for category in category_list}\n",
    "\n",
    "root_cause_dict = create_lookup_dict(root_causes)\n",
    "symptom_condition_dict = create_lookup_dict(symptom_conditions)\n",
    "symptom_component_dict = create_lookup_dict(symptom_components)\n",
    "fix_condition_dict = create_lookup_dict(fix_conditions)\n",
    "fix_component_dict = create_lookup_dict(fix_components)\n",
    "\n",
    "# Function to map free-text fields using dictionary lookup\n",
    "def map_to_taxonomy(text, lookup_dict):\n",
    "    if pd.isna(text):\n",
    "        return None  # Skip missing values\n",
    "    text_lower = text.lower()\n",
    "    for key in lookup_dict:\n",
    "        if key in text_lower:\n",
    "            return lookup_dict[key]  # Return matched category\n",
    "    return None  # No match found\n"
   ]
  },
  {
   "cell_type": "code",
   "execution_count": 73,
   "id": "1901d175-3ec0-4499-aaee-6045c2d0abb3",
   "metadata": {},
   "outputs": [
    {
     "ename": "NameError",
     "evalue": "name 'map_to_taxonomy' is not defined",
     "output_type": "error",
     "traceback": [
      "\u001b[1;31m---------------------------------------------------------------------------\u001b[0m",
      "\u001b[1;31mNameError\u001b[0m                                 Traceback (most recent call last)",
      "Cell \u001b[1;32mIn[73], line 2\u001b[0m\n\u001b[0;32m      1\u001b[0m \u001b[38;5;66;03m# Apply mapping to assign categories\u001b[39;00m\n\u001b[1;32m----> 2\u001b[0m task_data[\u001b[38;5;124m\"\u001b[39m\u001b[38;5;124mMapped Root Cause\u001b[39m\u001b[38;5;124m\"\u001b[39m] \u001b[38;5;241m=\u001b[39m task_data[\u001b[38;5;124m\"\u001b[39m\u001b[38;5;124mCause\u001b[39m\u001b[38;5;124m\"\u001b[39m]\u001b[38;5;241m.\u001b[39mapply(\u001b[38;5;28;01mlambda\u001b[39;00m x: map_to_taxonomy(x, root_cause_dict))\n\u001b[0;32m      3\u001b[0m task_data[\u001b[38;5;124m\"\u001b[39m\u001b[38;5;124mMapped Symptom Condition\u001b[39m\u001b[38;5;124m\"\u001b[39m] \u001b[38;5;241m=\u001b[39m task_data[\u001b[38;5;124m\"\u001b[39m\u001b[38;5;124mComplaint\u001b[39m\u001b[38;5;124m\"\u001b[39m]\u001b[38;5;241m.\u001b[39mapply(\u001b[38;5;28;01mlambda\u001b[39;00m x: map_to_taxonomy(x, symptom_condition_dict))\n\u001b[0;32m      4\u001b[0m task_data[\u001b[38;5;124m\"\u001b[39m\u001b[38;5;124mMapped Symptom Component\u001b[39m\u001b[38;5;124m\"\u001b[39m] \u001b[38;5;241m=\u001b[39m task_data[\u001b[38;5;124m\"\u001b[39m\u001b[38;5;124mComplaint\u001b[39m\u001b[38;5;124m\"\u001b[39m]\u001b[38;5;241m.\u001b[39mapply(\u001b[38;5;28;01mlambda\u001b[39;00m x: map_to_taxonomy(x, symptom_component_dict))\n",
      "File \u001b[1;32m~\\anaconda3\\Lib\\site-packages\\pandas\\core\\series.py:4630\u001b[0m, in \u001b[0;36mSeries.apply\u001b[1;34m(self, func, convert_dtype, args, **kwargs)\u001b[0m\n\u001b[0;32m   4520\u001b[0m \u001b[38;5;28;01mdef\u001b[39;00m \u001b[38;5;21mapply\u001b[39m(\n\u001b[0;32m   4521\u001b[0m     \u001b[38;5;28mself\u001b[39m,\n\u001b[0;32m   4522\u001b[0m     func: AggFuncType,\n\u001b[1;32m   (...)\u001b[0m\n\u001b[0;32m   4525\u001b[0m     \u001b[38;5;241m*\u001b[39m\u001b[38;5;241m*\u001b[39mkwargs,\n\u001b[0;32m   4526\u001b[0m ) \u001b[38;5;241m-\u001b[39m\u001b[38;5;241m>\u001b[39m DataFrame \u001b[38;5;241m|\u001b[39m Series:\n\u001b[0;32m   4527\u001b[0m \u001b[38;5;250m    \u001b[39m\u001b[38;5;124;03m\"\"\"\u001b[39;00m\n\u001b[0;32m   4528\u001b[0m \u001b[38;5;124;03m    Invoke function on values of Series.\u001b[39;00m\n\u001b[0;32m   4529\u001b[0m \n\u001b[1;32m   (...)\u001b[0m\n\u001b[0;32m   4628\u001b[0m \u001b[38;5;124;03m    dtype: float64\u001b[39;00m\n\u001b[0;32m   4629\u001b[0m \u001b[38;5;124;03m    \"\"\"\u001b[39;00m\n\u001b[1;32m-> 4630\u001b[0m     \u001b[38;5;28;01mreturn\u001b[39;00m SeriesApply(\u001b[38;5;28mself\u001b[39m, func, convert_dtype, args, kwargs)\u001b[38;5;241m.\u001b[39mapply()\n",
      "File \u001b[1;32m~\\anaconda3\\Lib\\site-packages\\pandas\\core\\apply.py:1025\u001b[0m, in \u001b[0;36mSeriesApply.apply\u001b[1;34m(self)\u001b[0m\n\u001b[0;32m   1022\u001b[0m     \u001b[38;5;28;01mreturn\u001b[39;00m \u001b[38;5;28mself\u001b[39m\u001b[38;5;241m.\u001b[39mapply_str()\n\u001b[0;32m   1024\u001b[0m \u001b[38;5;66;03m# self.f is Callable\u001b[39;00m\n\u001b[1;32m-> 1025\u001b[0m \u001b[38;5;28;01mreturn\u001b[39;00m \u001b[38;5;28mself\u001b[39m\u001b[38;5;241m.\u001b[39mapply_standard()\n",
      "File \u001b[1;32m~\\anaconda3\\Lib\\site-packages\\pandas\\core\\apply.py:1076\u001b[0m, in \u001b[0;36mSeriesApply.apply_standard\u001b[1;34m(self)\u001b[0m\n\u001b[0;32m   1074\u001b[0m     \u001b[38;5;28;01melse\u001b[39;00m:\n\u001b[0;32m   1075\u001b[0m         values \u001b[38;5;241m=\u001b[39m obj\u001b[38;5;241m.\u001b[39mastype(\u001b[38;5;28mobject\u001b[39m)\u001b[38;5;241m.\u001b[39m_values\n\u001b[1;32m-> 1076\u001b[0m         mapped \u001b[38;5;241m=\u001b[39m lib\u001b[38;5;241m.\u001b[39mmap_infer(\n\u001b[0;32m   1077\u001b[0m             values,\n\u001b[0;32m   1078\u001b[0m             f,\n\u001b[0;32m   1079\u001b[0m             convert\u001b[38;5;241m=\u001b[39m\u001b[38;5;28mself\u001b[39m\u001b[38;5;241m.\u001b[39mconvert_dtype,\n\u001b[0;32m   1080\u001b[0m         )\n\u001b[0;32m   1082\u001b[0m \u001b[38;5;28;01mif\u001b[39;00m \u001b[38;5;28mlen\u001b[39m(mapped) \u001b[38;5;129;01mand\u001b[39;00m \u001b[38;5;28misinstance\u001b[39m(mapped[\u001b[38;5;241m0\u001b[39m], ABCSeries):\n\u001b[0;32m   1083\u001b[0m     \u001b[38;5;66;03m# GH#43986 Need to do list(mapped) in order to get treated as nested\u001b[39;00m\n\u001b[0;32m   1084\u001b[0m     \u001b[38;5;66;03m#  See also GH#25959 regarding EA support\u001b[39;00m\n\u001b[0;32m   1085\u001b[0m     \u001b[38;5;28;01mreturn\u001b[39;00m obj\u001b[38;5;241m.\u001b[39m_constructor_expanddim(\u001b[38;5;28mlist\u001b[39m(mapped), index\u001b[38;5;241m=\u001b[39mobj\u001b[38;5;241m.\u001b[39mindex)\n",
      "File \u001b[1;32m~\\anaconda3\\Lib\\site-packages\\pandas\\_libs\\lib.pyx:2834\u001b[0m, in \u001b[0;36mpandas._libs.lib.map_infer\u001b[1;34m()\u001b[0m\n",
      "Cell \u001b[1;32mIn[73], line 2\u001b[0m, in \u001b[0;36m<lambda>\u001b[1;34m(x)\u001b[0m\n\u001b[0;32m      1\u001b[0m \u001b[38;5;66;03m# Apply mapping to assign categories\u001b[39;00m\n\u001b[1;32m----> 2\u001b[0m task_data[\u001b[38;5;124m\"\u001b[39m\u001b[38;5;124mMapped Root Cause\u001b[39m\u001b[38;5;124m\"\u001b[39m] \u001b[38;5;241m=\u001b[39m task_data[\u001b[38;5;124m\"\u001b[39m\u001b[38;5;124mCause\u001b[39m\u001b[38;5;124m\"\u001b[39m]\u001b[38;5;241m.\u001b[39mapply(\u001b[38;5;28;01mlambda\u001b[39;00m x: map_to_taxonomy(x, root_cause_dict))\n\u001b[0;32m      3\u001b[0m task_data[\u001b[38;5;124m\"\u001b[39m\u001b[38;5;124mMapped Symptom Condition\u001b[39m\u001b[38;5;124m\"\u001b[39m] \u001b[38;5;241m=\u001b[39m task_data[\u001b[38;5;124m\"\u001b[39m\u001b[38;5;124mComplaint\u001b[39m\u001b[38;5;124m\"\u001b[39m]\u001b[38;5;241m.\u001b[39mapply(\u001b[38;5;28;01mlambda\u001b[39;00m x: map_to_taxonomy(x, symptom_condition_dict))\n\u001b[0;32m      4\u001b[0m task_data[\u001b[38;5;124m\"\u001b[39m\u001b[38;5;124mMapped Symptom Component\u001b[39m\u001b[38;5;124m\"\u001b[39m] \u001b[38;5;241m=\u001b[39m task_data[\u001b[38;5;124m\"\u001b[39m\u001b[38;5;124mComplaint\u001b[39m\u001b[38;5;124m\"\u001b[39m]\u001b[38;5;241m.\u001b[39mapply(\u001b[38;5;28;01mlambda\u001b[39;00m x: map_to_taxonomy(x, symptom_component_dict))\n",
      "\u001b[1;31mNameError\u001b[0m: name 'map_to_taxonomy' is not defined"
     ]
    }
   ],
   "source": [
    "\n",
    "task_data[\"Mapped Root Cause\"] = task_data[\"Cause\"].apply(lambda x: map_to_taxonomy(x, root_cause_dict))\n",
    "task_data[\"Mapped Symptom Condition\"] = task_data[\"Complaint\"].apply(lambda x: map_to_taxonomy(x, symptom_condition_dict))\n",
    "task_data[\"Mapped Symptom Component\"] = task_data[\"Complaint\"].apply(lambda x: map_to_taxonomy(x, symptom_component_dict))\n",
    "task_data[\"Mapped Fix Condition\"] = task_data[\"Correction\"].apply(lambda x: map_to_taxonomy(x, fix_condition_dict))\n",
    "task_data[\"Mapped Fix Component\"] = task_data[\"Correction\"].apply(lambda x: map_to_taxonomy(x, fix_component_dict))\n",
    "\n",
    "# Show first few rows \n",
    "display(task_data.head())\n"
   ]
  },
  {
   "cell_type": "code",
   "execution_count": 75,
   "id": "fab50d70-8b5b-41c6-9f30-6771f06ccd4e",
   "metadata": {},
   "outputs": [
    {
     "name": "stdout",
     "output_type": "stream",
     "text": [
      "Data tagging complete! File saved as 'Tagged_Task1_Data.xlsx'\n"
     ]
    }
   ],
   "source": [
    "\n",
    "task_data.to_excel(\"Tagged_Task1_Data.xlsx\", sheet_name=\"Tagged Data\", index=False)\n",
    "\n",
    "print(\"Data tagging complete! File saved as 'Tagged_Task1_Data.xlsx'\")\n"
   ]
  },
  {
   "cell_type": "code",
   "execution_count": null,
   "id": "667d26e8-33cf-46b1-89c4-2d34a13258f5",
   "metadata": {},
   "outputs": [],
   "source": []
  }
 ],
 "metadata": {
  "kernelspec": {
   "display_name": "Python [conda env:base] *",
   "language": "python",
   "name": "conda-base-py"
  },
  "language_info": {
   "codemirror_mode": {
    "name": "ipython",
    "version": 3
   },
   "file_extension": ".py",
   "mimetype": "text/x-python",
   "name": "python",
   "nbconvert_exporter": "python",
   "pygments_lexer": "ipython3",
   "version": "3.11.5"
  }
 },
 "nbformat": 4,
 "nbformat_minor": 5
}
